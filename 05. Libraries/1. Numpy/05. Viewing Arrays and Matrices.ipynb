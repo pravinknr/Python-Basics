{
 "cells": [
  {
   "cell_type": "code",
   "execution_count": 19,
   "metadata": {},
   "outputs": [],
   "source": [
    "import numpy as np"
   ]
  },
  {
   "cell_type": "markdown",
   "metadata": {},
   "source": [
    "# Viewing Arrays and Matrices"
   ]
  },
  {
   "cell_type": "code",
   "execution_count": 60,
   "metadata": {},
   "outputs": [
    {
     "data": {
      "text/plain": [
       "array([[2, 4],\n",
       "       [7, 7],\n",
       "       [9, 1],\n",
       "       [7, 0],\n",
       "       [6, 9]])"
      ]
     },
     "execution_count": 60,
     "metadata": {},
     "output_type": "execute_result"
    }
   ],
   "source": [
    "random_array = np.random.randint(0,10, size=(5,2))\n",
    "random_array"
   ]
  },
  {
   "cell_type": "code",
   "execution_count": 61,
   "metadata": {},
   "outputs": [
    {
     "data": {
      "text/plain": [
       "array([0, 1, 2, 4, 6, 7, 9])"
      ]
     },
     "execution_count": 61,
     "metadata": {},
     "output_type": "execute_result"
    }
   ],
   "source": [
    "np.unique(random_array)"
   ]
  },
  {
   "cell_type": "code",
   "execution_count": 62,
   "metadata": {},
   "outputs": [],
   "source": [
    "a1 = np.array([1,2,3])"
   ]
  },
  {
   "cell_type": "code",
   "execution_count": 63,
   "metadata": {},
   "outputs": [],
   "source": [
    "a2 = np.array([[1,2,3.5],[4,5,6.6]])"
   ]
  },
  {
   "cell_type": "code",
   "execution_count": 68,
   "metadata": {},
   "outputs": [],
   "source": [
    "a3 = np.array([[[1,2,3],\n",
    "               [4,5,6],\n",
    "               [7,8,9]],\n",
    "               \n",
    "              [[10,11,12],\n",
    "              [13,14,15],\n",
    "              [16,17,18]]])"
   ]
  },
  {
   "cell_type": "code",
   "execution_count": 65,
   "metadata": {},
   "outputs": [
    {
     "data": {
      "text/plain": [
       "array([1, 2, 3])"
      ]
     },
     "execution_count": 65,
     "metadata": {},
     "output_type": "execute_result"
    }
   ],
   "source": [
    "a1"
   ]
  },
  {
   "cell_type": "code",
   "execution_count": 66,
   "metadata": {},
   "outputs": [
    {
     "data": {
      "text/plain": [
       "array([[1. , 2. , 3.5],\n",
       "       [4. , 5. , 6.6]])"
      ]
     },
     "execution_count": 66,
     "metadata": {},
     "output_type": "execute_result"
    }
   ],
   "source": [
    "a2"
   ]
  },
  {
   "cell_type": "code",
   "execution_count": 69,
   "metadata": {},
   "outputs": [
    {
     "data": {
      "text/plain": [
       "array([[[ 1,  2,  3],\n",
       "        [ 4,  5,  6],\n",
       "        [ 7,  8,  9]],\n",
       "\n",
       "       [[10, 11, 12],\n",
       "        [13, 14, 15],\n",
       "        [16, 17, 18]]])"
      ]
     },
     "execution_count": 69,
     "metadata": {},
     "output_type": "execute_result"
    }
   ],
   "source": [
    "a3"
   ]
  },
  {
   "cell_type": "code",
   "execution_count": 70,
   "metadata": {},
   "outputs": [
    {
     "data": {
      "text/plain": [
       "1"
      ]
     },
     "execution_count": 70,
     "metadata": {},
     "output_type": "execute_result"
    }
   ],
   "source": [
    "a1[0]"
   ]
  },
  {
   "cell_type": "code",
   "execution_count": 71,
   "metadata": {},
   "outputs": [
    {
     "data": {
      "text/plain": [
       "array([1. , 2. , 3.5])"
      ]
     },
     "execution_count": 71,
     "metadata": {},
     "output_type": "execute_result"
    }
   ],
   "source": [
    "a2[0]"
   ]
  },
  {
   "cell_type": "code",
   "execution_count": 72,
   "metadata": {},
   "outputs": [
    {
     "data": {
      "text/plain": [
       "(2, 3)"
      ]
     },
     "execution_count": 72,
     "metadata": {},
     "output_type": "execute_result"
    }
   ],
   "source": [
    "a2.shape"
   ]
  },
  {
   "cell_type": "code",
   "execution_count": 73,
   "metadata": {},
   "outputs": [
    {
     "data": {
      "text/plain": [
       "(2, 3, 3)"
      ]
     },
     "execution_count": 73,
     "metadata": {},
     "output_type": "execute_result"
    }
   ],
   "source": [
    "a3.shape"
   ]
  },
  {
   "cell_type": "code",
   "execution_count": 74,
   "metadata": {},
   "outputs": [
    {
     "data": {
      "text/plain": [
       "array([[1, 2, 3],\n",
       "       [4, 5, 6],\n",
       "       [7, 8, 9]])"
      ]
     },
     "execution_count": 74,
     "metadata": {},
     "output_type": "execute_result"
    }
   ],
   "source": [
    "a3[0]"
   ]
  },
  {
   "cell_type": "code",
   "execution_count": 75,
   "metadata": {},
   "outputs": [
    {
     "data": {
      "text/plain": [
       "array([4. , 5. , 6.6])"
      ]
     },
     "execution_count": 75,
     "metadata": {},
     "output_type": "execute_result"
    }
   ],
   "source": [
    "a2[1]"
   ]
  },
  {
   "cell_type": "code",
   "execution_count": 76,
   "metadata": {},
   "outputs": [
    {
     "data": {
      "text/plain": [
       "5.0"
      ]
     },
     "execution_count": 76,
     "metadata": {},
     "output_type": "execute_result"
    }
   ],
   "source": [
    "a2[1,1]"
   ]
  },
  {
   "cell_type": "code",
   "execution_count": 78,
   "metadata": {},
   "outputs": [
    {
     "data": {
      "text/plain": [
       "array([[[ 1,  2],\n",
       "        [ 4,  5]],\n",
       "\n",
       "       [[10, 11],\n",
       "        [13, 14]]])"
      ]
     },
     "execution_count": 78,
     "metadata": {},
     "output_type": "execute_result"
    }
   ],
   "source": [
    "a3[:2,:2,:2]"
   ]
  },
  {
   "cell_type": "code",
   "execution_count": 79,
   "metadata": {},
   "outputs": [
    {
     "data": {
      "text/plain": [
       "array([[[[9, 7, 6, 9, 1],\n",
       "         [0, 1, 8, 8, 3],\n",
       "         [9, 8, 7, 3, 6],\n",
       "         [5, 1, 9, 3, 4]],\n",
       "\n",
       "        [[8, 1, 4, 0, 3],\n",
       "         [9, 2, 0, 4, 9],\n",
       "         [2, 7, 7, 9, 8],\n",
       "         [6, 9, 3, 7, 7]],\n",
       "\n",
       "        [[4, 5, 9, 3, 6],\n",
       "         [8, 0, 2, 7, 7],\n",
       "         [9, 7, 3, 0, 8],\n",
       "         [7, 7, 1, 1, 3]]],\n",
       "\n",
       "\n",
       "       [[[0, 8, 6, 4, 5],\n",
       "         [6, 2, 5, 7, 8],\n",
       "         [4, 4, 7, 7, 4],\n",
       "         [9, 0, 2, 0, 7]],\n",
       "\n",
       "        [[1, 7, 9, 8, 4],\n",
       "         [0, 1, 9, 8, 2],\n",
       "         [3, 1, 2, 7, 2],\n",
       "         [6, 0, 9, 2, 6]],\n",
       "\n",
       "        [[6, 2, 7, 7, 0],\n",
       "         [6, 5, 1, 4, 6],\n",
       "         [0, 6, 5, 1, 2],\n",
       "         [1, 5, 4, 0, 7]]]])"
      ]
     },
     "execution_count": 79,
     "metadata": {},
     "output_type": "execute_result"
    }
   ],
   "source": [
    "a4 = np.random.randint(10, size=(2,3,4,5))\n",
    "a4"
   ]
  },
  {
   "cell_type": "code",
   "execution_count": 80,
   "metadata": {},
   "outputs": [
    {
     "data": {
      "text/plain": [
       "(2, 3, 4, 5)"
      ]
     },
     "execution_count": 80,
     "metadata": {},
     "output_type": "execute_result"
    }
   ],
   "source": [
    "a4.shape"
   ]
  },
  {
   "cell_type": "code",
   "execution_count": 81,
   "metadata": {},
   "outputs": [
    {
     "data": {
      "text/plain": [
       "4"
      ]
     },
     "execution_count": 81,
     "metadata": {},
     "output_type": "execute_result"
    }
   ],
   "source": [
    "a4.ndim"
   ]
  },
  {
   "cell_type": "code",
   "execution_count": 82,
   "metadata": {},
   "outputs": [
    {
     "data": {
      "text/plain": [
       "array([[[[9, 7, 6, 9],\n",
       "         [0, 1, 8, 8],\n",
       "         [9, 8, 7, 3],\n",
       "         [5, 1, 9, 3]],\n",
       "\n",
       "        [[8, 1, 4, 0],\n",
       "         [9, 2, 0, 4],\n",
       "         [2, 7, 7, 9],\n",
       "         [6, 9, 3, 7]],\n",
       "\n",
       "        [[4, 5, 9, 3],\n",
       "         [8, 0, 2, 7],\n",
       "         [9, 7, 3, 0],\n",
       "         [7, 7, 1, 1]]],\n",
       "\n",
       "\n",
       "       [[[0, 8, 6, 4],\n",
       "         [6, 2, 5, 7],\n",
       "         [4, 4, 7, 7],\n",
       "         [9, 0, 2, 0]],\n",
       "\n",
       "        [[1, 7, 9, 8],\n",
       "         [0, 1, 9, 8],\n",
       "         [3, 1, 2, 7],\n",
       "         [6, 0, 9, 2]],\n",
       "\n",
       "        [[6, 2, 7, 7],\n",
       "         [6, 5, 1, 4],\n",
       "         [0, 6, 5, 1],\n",
       "         [1, 5, 4, 0]]]])"
      ]
     },
     "execution_count": 82,
     "metadata": {},
     "output_type": "execute_result"
    }
   ],
   "source": [
    "a4[:,:,:,:4]"
   ]
  },
  {
   "cell_type": "code",
   "execution_count": 83,
   "metadata": {},
   "outputs": [
    {
     "data": {
      "text/plain": [
       "array([[[[9, 7, 6],\n",
       "         [0, 1, 8],\n",
       "         [9, 8, 7],\n",
       "         [5, 1, 9]],\n",
       "\n",
       "        [[8, 1, 4],\n",
       "         [9, 2, 0],\n",
       "         [2, 7, 7],\n",
       "         [6, 9, 3]],\n",
       "\n",
       "        [[4, 5, 9],\n",
       "         [8, 0, 2],\n",
       "         [9, 7, 3],\n",
       "         [7, 7, 1]]],\n",
       "\n",
       "\n",
       "       [[[0, 8, 6],\n",
       "         [6, 2, 5],\n",
       "         [4, 4, 7],\n",
       "         [9, 0, 2]],\n",
       "\n",
       "        [[1, 7, 9],\n",
       "         [0, 1, 9],\n",
       "         [3, 1, 2],\n",
       "         [6, 0, 9]],\n",
       "\n",
       "        [[6, 2, 7],\n",
       "         [6, 5, 1],\n",
       "         [0, 6, 5],\n",
       "         [1, 5, 4]]]])"
      ]
     },
     "execution_count": 83,
     "metadata": {},
     "output_type": "execute_result"
    }
   ],
   "source": [
    "a4[:,:,:,:3]"
   ]
  },
  {
   "cell_type": "code",
   "execution_count": 84,
   "metadata": {},
   "outputs": [
    {
     "data": {
      "text/plain": [
       "array([[[[9, 7],\n",
       "         [0, 1],\n",
       "         [9, 8],\n",
       "         [5, 1]],\n",
       "\n",
       "        [[8, 1],\n",
       "         [9, 2],\n",
       "         [2, 7],\n",
       "         [6, 9]],\n",
       "\n",
       "        [[4, 5],\n",
       "         [8, 0],\n",
       "         [9, 7],\n",
       "         [7, 7]]],\n",
       "\n",
       "\n",
       "       [[[0, 8],\n",
       "         [6, 2],\n",
       "         [4, 4],\n",
       "         [9, 0]],\n",
       "\n",
       "        [[1, 7],\n",
       "         [0, 1],\n",
       "         [3, 1],\n",
       "         [6, 0]],\n",
       "\n",
       "        [[6, 2],\n",
       "         [6, 5],\n",
       "         [0, 6],\n",
       "         [1, 5]]]])"
      ]
     },
     "execution_count": 84,
     "metadata": {},
     "output_type": "execute_result"
    }
   ],
   "source": [
    "a4[:,:,:,:2]"
   ]
  },
  {
   "cell_type": "code",
   "execution_count": 85,
   "metadata": {},
   "outputs": [
    {
     "data": {
      "text/plain": [
       "array([[[[9],\n",
       "         [0],\n",
       "         [9],\n",
       "         [5]],\n",
       "\n",
       "        [[8],\n",
       "         [9],\n",
       "         [2],\n",
       "         [6]],\n",
       "\n",
       "        [[4],\n",
       "         [8],\n",
       "         [9],\n",
       "         [7]]],\n",
       "\n",
       "\n",
       "       [[[0],\n",
       "         [6],\n",
       "         [4],\n",
       "         [9]],\n",
       "\n",
       "        [[1],\n",
       "         [0],\n",
       "         [3],\n",
       "         [6]],\n",
       "\n",
       "        [[6],\n",
       "         [6],\n",
       "         [0],\n",
       "         [1]]]])"
      ]
     },
     "execution_count": 85,
     "metadata": {},
     "output_type": "execute_result"
    }
   ],
   "source": [
    "a4[:,:,:,:1]"
   ]
  },
  {
   "cell_type": "code",
   "execution_count": null,
   "metadata": {},
   "outputs": [],
   "source": []
  }
 ],
 "metadata": {
  "kernelspec": {
   "display_name": "Python 3",
   "language": "python",
   "name": "python3"
  },
  "language_info": {
   "codemirror_mode": {
    "name": "ipython",
    "version": 3
   },
   "file_extension": ".py",
   "mimetype": "text/x-python",
   "name": "python",
   "nbconvert_exporter": "python",
   "pygments_lexer": "ipython3",
   "version": "3.7.6"
  }
 },
 "nbformat": 4,
 "nbformat_minor": 4
}
