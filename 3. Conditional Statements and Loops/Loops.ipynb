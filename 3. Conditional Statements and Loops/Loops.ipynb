{
 "cells": [
  {
   "cell_type": "markdown",
   "metadata": {},
   "source": [
    "# Loops \n",
    "### 1. FOR Loop \n",
    "### 2. WHILE Loop"
   ]
  },
  {
   "cell_type": "markdown",
   "metadata": {},
   "source": [
    "### 1. FOR Loop\n",
    "#### FOR Loop executes the condition till the last element is reached"
   ]
  },
  {
   "cell_type": "code",
   "execution_count": 1,
   "metadata": {},
   "outputs": [
    {
     "name": "stdout",
     "output_type": "stream",
     "text": [
      "['JOE', 'JOHN', 'MICHEAL', 'CLIFTON']\n"
     ]
    }
   ],
   "source": [
    "Names = [\"JOE\",\"JOHN\",\"MICHEAL\",\"CLIFTON\"]\n",
    "print(Names)"
   ]
  },
  {
   "cell_type": "code",
   "execution_count": 2,
   "metadata": {},
   "outputs": [
    {
     "name": "stdout",
     "output_type": "stream",
     "text": [
      "JOE\n",
      "JOHN\n",
      "MICHEAL\n",
      "CLIFTON\n"
     ]
    }
   ],
   "source": [
    "for i in Names:\n",
    "    print(i)"
   ]
  },
  {
   "cell_type": "code",
   "execution_count": 3,
   "metadata": {},
   "outputs": [
    {
     "name": "stdout",
     "output_type": "stream",
     "text": [
      "0\n",
      "1\n",
      "2\n",
      "3\n",
      "4\n",
      "5\n",
      "6\n",
      "7\n",
      "8\n",
      "9\n"
     ]
    }
   ],
   "source": [
    "for i in range(10): #This will print all the values from 0 to 9. This will exclude the upper limit.\n",
    "    print(i)"
   ]
  },
  {
   "cell_type": "code",
   "execution_count": 4,
   "metadata": {},
   "outputs": [
    {
     "name": "stdout",
     "output_type": "stream",
     "text": [
      "[1, 6, 20, 33]\n"
     ]
    }
   ],
   "source": [
    "number = [1,6,20,33]\n",
    "print(number)"
   ]
  },
  {
   "cell_type": "code",
   "execution_count": 5,
   "metadata": {},
   "outputs": [
    {
     "name": "stdout",
     "output_type": "stream",
     "text": [
      "1\n",
      "36\n",
      "400\n",
      "1089\n"
     ]
    }
   ],
   "source": [
    "for a in number:\n",
    "    b = a*a    #This condition will give the square values of all the elements in  number\n",
    "    print(b)"
   ]
  },
  {
   "cell_type": "markdown",
   "metadata": {},
   "source": [
    "#### Nested FOR loop"
   ]
  },
  {
   "cell_type": "code",
   "execution_count": 6,
   "metadata": {},
   "outputs": [
    {
     "name": "stdout",
     "output_type": "stream",
     "text": [
      "['potato', 'onion', 'cabbage']\n",
      "['brown', 'yellow', 'green']\n"
     ]
    }
   ],
   "source": [
    "vegetables = [\"potato\",\"onion\",\"cabbage\"]\n",
    "color = [\"brown\",\"yellow\",\"green\"]\n",
    "print(vegetables)\n",
    "print(color)"
   ]
  },
  {
   "cell_type": "code",
   "execution_count": 7,
   "metadata": {},
   "outputs": [
    {
     "name": "stdout",
     "output_type": "stream",
     "text": [
      "potato , brown\n",
      "potato , yellow\n",
      "potato , green\n",
      "onion , brown\n",
      "onion , yellow\n",
      "onion , green\n",
      "cabbage , brown\n",
      "cabbage , yellow\n",
      "cabbage , green\n"
     ]
    }
   ],
   "source": [
    "#The below condition will give the combinations of vegetables and color\n",
    "\n",
    "for a in vegetables:\n",
    "    for b in color:\n",
    "        print(a,\",\",b)"
   ]
  },
  {
   "cell_type": "markdown",
   "metadata": {},
   "source": [
    "### 2. WHILE Loop"
   ]
  },
  {
   "cell_type": "code",
   "execution_count": 8,
   "metadata": {},
   "outputs": [
    {
     "name": "stdout",
     "output_type": "stream",
     "text": [
      "20\n"
     ]
    }
   ],
   "source": [
    "a = 20\n",
    "print(a)"
   ]
  },
  {
   "cell_type": "code",
   "execution_count": 9,
   "metadata": {},
   "outputs": [
    {
     "name": "stdout",
     "output_type": "stream",
     "text": [
      "Digit: 20\n",
      "Digit: 21\n",
      "Digit: 22\n",
      "Digit: 23\n",
      "Digit: 24\n",
      "Digit: 25\n",
      "Digit: 26\n",
      "Digit: 27\n",
      "Digit: 28\n",
      "Digit: 29\n"
     ]
    }
   ],
   "source": [
    "while a < 30: #This is the condition where a < 30\n",
    "    print(\"Digit:\", a) #This will print the value of a\n",
    "    a = a+1  #This will add +1 until a is equal to 30"
   ]
  },
  {
   "cell_type": "code",
   "execution_count": null,
   "metadata": {},
   "outputs": [
    {
     "name": "stdout",
     "output_type": "stream",
     "text": [
      "Enter a number: 15\n",
      "count is greater than 10\n",
      "Enter a number: 20\n",
      "count is greater than 10\n",
      "Enter a number: 30\n",
      "count is greater than 10\n",
      "Enter a number: 22\n",
      "count is greater than 10\n",
      "Enter a number: 33\n",
      "count is greater than 10\n",
      "Enter a number: 5\n",
      "count is smaller than 10\n"
     ]
    }
   ],
   "source": [
    "#Example\n",
    "    \n",
    "import random #imports the package random\n",
    "\n",
    "rand1 = int(30*random.random()) #Creating a random number between 0 and 30\n",
    "\n",
    "count = 0 #Defining the value of count as 0\n",
    "while count != rand1: #Count is not equal to rand1\n",
    "    count = int(input(\"Enter a number: \")) #Takes a new value from the user\n",
    "    if count > 10: #Checks if count is > 10\n",
    "        print(\"count is greater than 10\")\n",
    "    else: #Executes if count < 10\n",
    "        print(\"count is smaller than 10\")\n",
    "else: #Executes if count is equal to rand1\n",
    "    print(\"Count is equal to rand1\")\n",
    "    \n",
    "#The Loop keeps running till the code encounters that count and rand1 is equal."
   ]
  },
  {
   "cell_type": "code",
   "execution_count": null,
   "metadata": {},
   "outputs": [],
   "source": []
  }
 ],
 "metadata": {
  "kernelspec": {
   "display_name": "Python 3",
   "language": "python",
   "name": "python3"
  },
  "language_info": {
   "codemirror_mode": {
    "name": "ipython",
    "version": 3
   },
   "file_extension": ".py",
   "mimetype": "text/x-python",
   "name": "python",
   "nbconvert_exporter": "python",
   "pygments_lexer": "ipython3",
   "version": "3.7.4"
  }
 },
 "nbformat": 4,
 "nbformat_minor": 2
}
